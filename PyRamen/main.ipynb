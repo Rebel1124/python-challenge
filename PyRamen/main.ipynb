{
 "cells": [
  {
   "cell_type": "code",
   "execution_count": 1,
   "id": "a7884cd1",
   "metadata": {},
   "outputs": [
    {
     "name": "stdout",
     "output_type": "stream",
     "text": [
      "Item-Profit\n",
      "-----------\n",
      "burnt garlic tonkotsu ramen {'01-count': 9,070, '02-revenue': $126,980, '03-cogs': $54,420, '04-profit': $72,560}\n",
      "miso crab ramen {'01-count': 8,890, '02-revenue': $106,680, '03-cogs': $53,340, '04-profit': $53,340}\n",
      "nagomi shoyu {'01-count': 9,132, '02-revenue': $100,452, '03-cogs': $45,660, '04-profit': $54,792}\n",
      "shio ramen {'01-count': 9,180, '02-revenue': $100,980, '03-cogs': $45,900, '04-profit': $55,080}\n",
      "soft-shell miso crab ramen {'01-count': 9,130, '02-revenue': $127,820, '03-cogs': $63,910, '04-profit': $63,910}\n",
      "spicy miso ramen {'01-count': 9,238, '02-revenue': $110,856, '03-cogs': $46,190, '04-profit': $64,666}\n",
      "tonkotsu ramen {'01-count': 9,288, '02-revenue': $120,744, '03-cogs': $55,728, '04-profit': $65,016}\n",
      "tori paitan ramen {'01-count': 9,156, '02-revenue': $119,028, '03-cogs': $54,936, '04-profit': $64,092}\n",
      "truffle butter ramen {'01-count': 8,982, '02-revenue': $125,748, '03-cogs': $62,874, '04-profit': $62,874}\n",
      "vegetarian curry + king trumpet mushroom ramen {'01-count': 8,824, '02-revenue': $114,712, '03-cogs': $61,768, '04-profit': $52,944}\n",
      "vegetarian spicy miso {'01-count': 9,216, '02-revenue': $110,592, '03-cogs': $46,080, '04-profit': $64,512}\n"
     ]
    }
   ],
   "source": [
    "# Import libraries\n",
    "import pandas as pd\n",
    "import numpy as np\n",
    "\n",
    "# Import menu and sales data\n",
    "menu_url = 'https://raw.githubusercontent.com/Rebel1124/python-challenge/main/PyRamen/Resources/menu_data.csv'\n",
    "sales_url = 'https://raw.githubusercontent.com/Rebel1124/python-challenge/main/PyRamen/Resources/sales_data.csv'\n",
    "\n",
    "menu = pd.read_csv(menu_url)\n",
    "sales = pd.read_csv(sales_url)\n",
    "\n",
    "# Merge menu and sales into a dataframe and perform revenue, cogs and profit calc's\n",
    "sales_filter = sales[['Quantity', 'Menu_Item']]\n",
    "sales_count = sales_filter.groupby(['Menu_Item']).sum()\n",
    "sales_count.insert(loc=0, column='item', value=sales_count.index)\n",
    "menu_filter = menu[['item', 'price', 'cost']]\n",
    "df = pd.merge(sales_count, menu_filter, on='item', how='left')\n",
    "df['revenue'] = df.apply(lambda x: x['Quantity']*x['price'], axis=1)\n",
    "df['cogs'] = df.apply(lambda x: x['Quantity']*x['cost'], axis=1)\n",
    "df['profit'] = df.apply(lambda x: x['revenue']-x['cogs'], axis=1)\n",
    "df.style.format({'item': \"\",'Quantity': \"{:0,.0f}\",'price': \"${:0,.0f}\", 'cost': \"${:0,.0f}\", 'revenue': \"${:0,.0f}\",\n",
    "                 'cogs': \"${:0,.0f}\", 'profit': \"${:0,.0f}\"})\n",
    "\n",
    "# Create numpy arrays to hold profit calculation results\n",
    "items = np.array(df['item'])\n",
    "count = np.array(df['Quantity'])\n",
    "revenue = np.array(df['revenue'])\n",
    "cogs = np.array(df['cogs'])\n",
    "profit = np.array(df['profit'])\n",
    "\n",
    "# Print Results to terminal\n",
    "lines = ['Item-Profit','-----------']\n",
    "\n",
    "for i in range(0,len(items)):\n",
    "    line = items[i]+\" {\"+\"'01-count': {:0,.0f}, '02-revenue': ${:0,.0f}, '03-cogs': ${:0,.0f}, '04-profit': ${:0,.0f}\".format(count[i], revenue[i], cogs[i], profit[i])+\"}\"\n",
    "    lines.append(line)\n",
    "    \n",
    "for line in lines:\n",
    "    print(line)\n",
    "\n",
    "# Write to PyRamen text file \n",
    "with open('PyRamen.txt', 'w') as f:\n",
    "    for line in lines:\n",
    "        f.write(line+'\\n')"
   ]
  }
 ],
 "metadata": {
  "kernelspec": {
   "display_name": "Python 3 (ipykernel)",
   "language": "python",
   "name": "python3"
  },
  "language_info": {
   "codemirror_mode": {
    "name": "ipython",
    "version": 3
   },
   "file_extension": ".py",
   "mimetype": "text/x-python",
   "name": "python",
   "nbconvert_exporter": "python",
   "pygments_lexer": "ipython3",
   "version": "3.9.7"
  }
 },
 "nbformat": 4,
 "nbformat_minor": 5
}
