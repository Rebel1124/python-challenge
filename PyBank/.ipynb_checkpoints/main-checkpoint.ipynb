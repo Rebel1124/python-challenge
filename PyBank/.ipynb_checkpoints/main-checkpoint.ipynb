{
 "cells": [
  {
   "cell_type": "code",
   "execution_count": 1,
   "id": "00d6062b",
   "metadata": {},
   "outputs": [
    {
     "name": "stdout",
     "output_type": "stream",
     "text": [
      "Financial Analysis \n",
      "\n",
      "--------------------- \n",
      "\n",
      "Total Months: 86\n",
      "\n",
      "Total: $38,382,578 \n",
      "\n",
      "Total: $38,382,578 \n",
      "\n",
      "Average Change: $-2,315.12 \n",
      "\n",
      "Greatest Increase in Profits: ['Feb-2012'] $1,926,159 \n",
      "\n",
      "Greatest Decrease in Profits: ['Sep-2013'] $-2,196,167 \n",
      "\n"
     ]
    }
   ],
   "source": [
    "# Import libraries\n",
    "import pandas as pd\n",
    "\n",
    "# Import budget-data\n",
    "url = 'https://raw.githubusercontent.com/Rebel1124/python-challenge/main/PyBank/Resources/budget_data.csv'\n",
    "df = pd.read_csv(url)\n",
    "\n",
    "\n",
    "# Perform calculations\n",
    "total_months = len(df['Date'])\n",
    "total = df['Profit/Losses'].sum()\n",
    "\n",
    "df['Change'] = (df['Profit/Losses'] - df['Profit/Losses'].shift(1)).fillna(0)\n",
    "average = (df['Change'].sum())/(total_months-1)\n",
    "\n",
    "max_increase = df['Change'].max()\n",
    "max_decrease = df['Change'].min()\n",
    "\n",
    "max_profit_date = df[df['Change']==max_increase]['Date'].values\n",
    "max_loss_date = df[df['Change']==max_decrease]['Date'].values\n",
    "\n",
    "\n",
    "# Print Results to terminal\n",
    "line1 = 'Financial Analysis \\n'\n",
    "line2 = '--------------------- \\n'\n",
    "line3 = 'Total Months: '+str(total_months)+'\\n'\n",
    "line4 = 'Total: ${:0,.0f} \\n'.format(total)\n",
    "line5 = 'Average Change: ${:0,.2f} \\n'.format(average)\n",
    "line6 = 'Greatest Increase in Profits: {} ${:0,.0f} \\n'.format(max_profit_date, max_increase)\n",
    "line7 = 'Greatest Decrease in Profits: {} ${:0,.0f} \\n'.format(max_loss_date, max_decrease)\n",
    "\n",
    "lines = [line1, line2, line3, line4, line4, line5, line6, line7]\n",
    "\n",
    "for line in lines:\n",
    "    print(line)\n",
    "    \n",
    "# Write to PyBank text file   \n",
    "with open('PyBank.txt', 'w') as f:\n",
    "    for line in lines:\n",
    "        f.write(line)"
   ]
  },
  {
   "cell_type": "code",
   "execution_count": null,
   "id": "2c66d7af",
   "metadata": {},
   "outputs": [],
   "source": []
  }
 ],
 "metadata": {
  "kernelspec": {
   "display_name": "Python 3 (ipykernel)",
   "language": "python",
   "name": "python3"
  },
  "language_info": {
   "codemirror_mode": {
    "name": "ipython",
    "version": 3
   },
   "file_extension": ".py",
   "mimetype": "text/x-python",
   "name": "python",
   "nbconvert_exporter": "python",
   "pygments_lexer": "ipython3",
   "version": "3.9.7"
  }
 },
 "nbformat": 4,
 "nbformat_minor": 5
}
